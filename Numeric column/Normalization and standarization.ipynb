{
 "cells": [
  {
   "cell_type": "code",
   "execution_count": 1,
   "metadata": {},
   "outputs": [
    {
     "name": "stderr",
     "output_type": "stream",
     "text": [
      "C:\\Users\\DELL\\AppData\\Roaming\\Python\\Python311\\site-packages\\pandas\\core\\arrays\\masked.py:60: UserWarning: Pandas requires version '1.3.6' or newer of 'bottleneck' (version '1.3.5' currently installed).\n",
      "  from pandas.core import (\n"
     ]
    }
   ],
   "source": [
    "import pandas as pd\n",
    "from sklearn.preprocessing import MinMaxScaler, StandardScaler\n"
   ]
  },
  {
   "cell_type": "code",
   "execution_count": 3,
   "metadata": {},
   "outputs": [],
   "source": [
    "data = pd.read_csv(\"C:/Users/DELL/Desktop/Normalization/train.csv\")\n"
   ]
  },
  {
   "cell_type": "code",
   "execution_count": 4,
   "metadata": {},
   "outputs": [
    {
     "name": "stdout",
     "output_type": "stream",
     "text": [
      "   PassengerId  Survived  Pclass  \\\n",
      "0            1         0       3   \n",
      "1            2         1       1   \n",
      "2            3         1       3   \n",
      "3            4         1       1   \n",
      "4            5         0       3   \n",
      "\n",
      "                                                Name     Sex   Age  SibSp  \\\n",
      "0                            Braund, Mr. Owen Harris    male  22.0      1   \n",
      "1  Cumings, Mrs. John Bradley (Florence Briggs Th...  female  38.0      1   \n",
      "2                             Heikkinen, Miss. Laina  female  26.0      0   \n",
      "3       Futrelle, Mrs. Jacques Heath (Lily May Peel)  female  35.0      1   \n",
      "4                           Allen, Mr. William Henry    male  35.0      0   \n",
      "\n",
      "   Parch            Ticket     Fare Cabin Embarked  \n",
      "0      0         A/5 21171   7.2500   NaN        S  \n",
      "1      0          PC 17599  71.2833   C85        C  \n",
      "2      0  STON/O2. 3101282   7.9250   NaN        S  \n",
      "3      0            113803  53.1000  C123        S  \n",
      "4      0            373450   8.0500   NaN        S  \n"
     ]
    }
   ],
   "source": [
    "print(data.head())"
   ]
  },
  {
   "cell_type": "code",
   "execution_count": 5,
   "metadata": {},
   "outputs": [],
   "source": [
    "\"Name\", \"Ticket\", \"Cabin\"\n",
    "data_cleaned = data.drop(columns=[\"Name\", \"Ticket\", \"Cabin\"])\n"
   ]
  },
  {
   "cell_type": "code",
   "execution_count": 7,
   "metadata": {},
   "outputs": [],
   "source": [
    "data_cleaned[\"Sex\"] = data_cleaned[\"Sex\"].map({\"male\": 0, \"female\": 1})\n",
    "data_cleaned[\"Embarked\"] = data_cleaned[\"Embarked\"].map({\"C\": 0, \"Q\": 1, \"S\": 2})"
   ]
  },
  {
   "cell_type": "code",
   "execution_count": 8,
   "metadata": {},
   "outputs": [
    {
     "name": "stderr",
     "output_type": "stream",
     "text": [
      "C:\\Users\\DELL\\AppData\\Local\\Temp\\ipykernel_45712\\1772646135.py:1: FutureWarning: A value is trying to be set on a copy of a DataFrame or Series through chained assignment using an inplace method.\n",
      "The behavior will change in pandas 3.0. This inplace method will never work because the intermediate object on which we are setting values always behaves as a copy.\n",
      "\n",
      "For example, when doing 'df[col].method(value, inplace=True)', try using 'df.method({col: value}, inplace=True)' or df[col] = df[col].method(value) instead, to perform the operation inplace on the original object.\n",
      "\n",
      "\n",
      "  data_cleaned[\"Age\"].fillna(data_cleaned[\"Age\"].mean(), inplace=True)\n",
      "C:\\Users\\DELL\\AppData\\Local\\Temp\\ipykernel_45712\\1772646135.py:2: FutureWarning: A value is trying to be set on a copy of a DataFrame or Series through chained assignment using an inplace method.\n",
      "The behavior will change in pandas 3.0. This inplace method will never work because the intermediate object on which we are setting values always behaves as a copy.\n",
      "\n",
      "For example, when doing 'df[col].method(value, inplace=True)', try using 'df.method({col: value}, inplace=True)' or df[col] = df[col].method(value) instead, to perform the operation inplace on the original object.\n",
      "\n",
      "\n",
      "  data_cleaned[\"Embarked\"].fillna(data_cleaned[\"Embarked\"].mode()[0], inplace=True)\n"
     ]
    }
   ],
   "source": [
    "data_cleaned[\"Age\"].fillna(data_cleaned[\"Age\"].mean(), inplace=True)\n",
    "data_cleaned[\"Embarked\"].fillna(data_cleaned[\"Embarked\"].mode()[0], inplace=True)\n"
   ]
  },
  {
   "cell_type": "code",
   "execution_count": 9,
   "metadata": {},
   "outputs": [],
   "source": [
    "# *Min-Max Normalization*\n",
    "min_max_scaler = MinMaxScaler()\n",
    "data_min_max_normalized = min_max_scaler.fit_transform(data_cleaned)"
   ]
  },
  {
   "cell_type": "code",
   "execution_count": 10,
   "metadata": {},
   "outputs": [],
   "source": [
    "data_min_max_normalized = pd.DataFrame(data_min_max_normalized, columns=data_cleaned.columns)\n"
   ]
  },
  {
   "cell_type": "code",
   "execution_count": 11,
   "metadata": {},
   "outputs": [
    {
     "name": "stdout",
     "output_type": "stream",
     "text": [
      "\n",
      "Data after Min-Max Normalization:\n",
      "   PassengerId  Survived  Pclass  Sex       Age  SibSp  Parch      Fare  \\\n",
      "0     0.000000       0.0     1.0  0.0  0.271174  0.125    0.0  0.014151   \n",
      "1     0.001124       1.0     0.0  1.0  0.472229  0.125    0.0  0.139136   \n",
      "2     0.002247       1.0     1.0  1.0  0.321438  0.000    0.0  0.015469   \n",
      "3     0.003371       1.0     0.0  1.0  0.434531  0.125    0.0  0.103644   \n",
      "4     0.004494       0.0     1.0  0.0  0.434531  0.000    0.0  0.015713   \n",
      "\n",
      "   Embarked  \n",
      "0       1.0  \n",
      "1       0.0  \n",
      "2       1.0  \n",
      "3       1.0  \n",
      "4       1.0  \n"
     ]
    }
   ],
   "source": [
    "\n",
    "print(\"\\nData after Min-Max Normalization:\")\n",
    "print(data_min_max_normalized.head())\n"
   ]
  },
  {
   "cell_type": "code",
   "execution_count": 12,
   "metadata": {},
   "outputs": [],
   "source": [
    "# *Z-Score Normalization (Standardization)*\n",
    "standard_scaler = StandardScaler()\n",
    "data_standardized = standard_scaler.fit_transform(data_cleaned)"
   ]
  },
  {
   "cell_type": "code",
   "execution_count": 13,
   "metadata": {},
   "outputs": [],
   "source": [
    "data_standardized = pd.DataFrame(data_standardized, columns=data_cleaned.columns)\n"
   ]
  },
  {
   "cell_type": "code",
   "execution_count": 14,
   "metadata": {},
   "outputs": [
    {
     "name": "stdout",
     "output_type": "stream",
     "text": [
      "\n",
      "Data after Z-Score Normalization:\n",
      "   PassengerId  Survived    Pclass       Sex       Age     SibSp     Parch  \\\n",
      "0    -1.730108 -0.789272  0.827377 -0.737695 -0.592481  0.432793 -0.473674   \n",
      "1    -1.726220  1.266990 -1.566107  1.355574  0.638789  0.432793 -0.473674   \n",
      "2    -1.722332  1.266990  0.827377  1.355574 -0.284663 -0.474545 -0.473674   \n",
      "3    -1.718444  1.266990 -1.566107  1.355574  0.407926  0.432793 -0.473674   \n",
      "4    -1.714556 -0.789272  0.827377 -0.737695  0.407926 -0.474545 -0.473674   \n",
      "\n",
      "       Fare  Embarked  \n",
      "0 -0.502445  0.585954  \n",
      "1  0.786845 -1.942303  \n",
      "2 -0.488854  0.585954  \n",
      "3  0.420730  0.585954  \n",
      "4 -0.486337  0.585954  \n"
     ]
    }
   ],
   "source": [
    "print(\"\\nData after Z-Score Normalization:\")\n",
    "print(data_standardized.head())"
   ]
  }
 ],
 "metadata": {
  "kernelspec": {
   "display_name": "base",
   "language": "python",
   "name": "python3"
  },
  "language_info": {
   "codemirror_mode": {
    "name": "ipython",
    "version": 3
   },
   "file_extension": ".py",
   "mimetype": "text/x-python",
   "name": "python",
   "nbconvert_exporter": "python",
   "pygments_lexer": "ipython3",
   "version": "3.11.5"
  }
 },
 "nbformat": 4,
 "nbformat_minor": 2
}
